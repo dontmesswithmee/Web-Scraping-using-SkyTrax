{
  "nbformat": 4,
  "nbformat_minor": 0,
  "metadata": {
    "colab": {
      "provenance": []
    },
    "kernelspec": {
      "name": "python3",
      "display_name": "Python 3"
    },
    "language_info": {
      "name": "python"
    }
  },
  "cells": [
    {
      "cell_type": "code",
      "execution_count": 34,
      "metadata": {
        "id": "RAKHIQylTn7S"
      },
      "outputs": [],
      "source": [
        "import numpy as np\n",
        "import pandas as pd\n",
        "from sklearn.model_selection import train_test_split\n",
        "from sklearn.preprocessing import StandardScaler\n",
        "from sklearn.metrics import confusion_matrix, accuracy_score"
      ]
    },
    {
      "cell_type": "code",
      "source": [
        "# Read the dataset\n",
        "airline_reviews = pd.read_csv(\"/content/airline_reviews_cleaned.csv\")"
      ],
      "metadata": {
        "id": "JoKBtKGkWE5k"
      },
      "execution_count": 35,
      "outputs": []
    },
    {
      "cell_type": "code",
      "source": [
        "# Select the input features and target\n",
        "input_features = ['Seat.Comfort', 'Food.Beverages', 'Inflight.Entertainment', 'Value.For.Money']\n",
        "X = airline_reviews[input_features].values\n",
        "y = airline_reviews['Recommended'].values"
      ],
      "metadata": {
        "id": "OmgSHhsmWJsN"
      },
      "execution_count": 36,
      "outputs": []
    },
    {
      "cell_type": "code",
      "source": [
        "# Split the dataset into training and testing sets\n",
        "X_train, X_test, y_train, y_test = train_test_split(X, y, test_size=0.2, random_state=42)"
      ],
      "metadata": {
        "id": "TOMvD238WNos"
      },
      "execution_count": 37,
      "outputs": []
    },
    {
      "cell_type": "code",
      "source": [
        "# Normalize the features\n",
        "scaler = StandardScaler()\n",
        "X_train = scaler.fit_transform(X_train)\n",
        "X_test = scaler.transform(X_test)"
      ],
      "metadata": {
        "id": "WL-W8g8SWR_W"
      },
      "execution_count": 38,
      "outputs": []
    },
    {
      "cell_type": "code",
      "source": [
        "# Activation functions and their derivatives\n",
        "def relu(x):\n",
        "    return np.maximum(0, x)\n",
        "\n",
        "def relu_derivative(x):\n",
        "    return (x > 0).astype(float)\n",
        "\n",
        "def sigmoid(x):\n",
        "    return 1 / (1 + np.exp(-x))\n",
        "\n",
        "def sigmoid_derivative(x):\n",
        "    return sigmoid(x) * (1 - sigmoid(x))"
      ],
      "metadata": {
        "id": "u4JIvZ1yWV4M"
      },
      "execution_count": 39,
      "outputs": []
    },
    {
      "cell_type": "code",
      "source": [
        "# Neural network training\n",
        "input_size = X_train.shape[1]\n",
        "hidden_units = 3\n",
        "output_size = 1\n",
        "learning_rate = 0.01\n",
        "epochs = 2000"
      ],
      "metadata": {
        "id": "qPcFfFRrWZ2f"
      },
      "execution_count": 40,
      "outputs": []
    },
    {
      "cell_type": "code",
      "source": [
        "# Initialize weights and biases\n",
        "np.random.seed(42)\n",
        "W1 = np.random.randn(input_size, hidden_units)\n",
        "b1 = np.zeros(hidden_units)\n",
        "W2 = np.random.randn(hidden_units, output_size)\n",
        "b2 = np.zeros(output_size)"
      ],
      "metadata": {
        "id": "mUsme63wWeHe"
      },
      "execution_count": 41,
      "outputs": []
    },
    {
      "cell_type": "code",
      "source": [
        "for epoch in range(epochs):\n",
        "    # Forward pass\n",
        "    Z1 = np.dot(X_train, W1) + b1\n",
        "    A1 = relu(Z1)\n",
        "    Z2 = np.dot(A1, W2) + b2\n",
        "    A2 = sigmoid(Z2)\n",
        "    \n",
        "    # Calculate loss\n",
        "    loss = -np.mean(y_train * np.log(A2) + (1 - y_train) * np.log(1 - A2))\n",
        "    \n",
        "    # Backward pass\n",
        "    dZ2 = A2 - y_train.reshape(-1, 1)\n",
        "    dW2 = np.dot(A1.T, dZ2) / len(X_train)\n",
        "    db2 = np.mean(dZ2, axis=0)\n",
        "    dZ1 = np.dot(dZ2, W2.T) * relu_derivative(Z1)\n",
        "    dW1 = np.dot(X_train.T, dZ1) / len(X_train)\n",
        "    db1 = np.mean(dZ1, axis=0)\n",
        "    \n",
        "    # Update weights and biases\n",
        "    W1 -= learning_rate * dW1\n",
        "    b1 -= learning_rate * db1\n",
        "    W2 -= learning_rate * dW2\n",
        "    b2 -= learning_rate * db2\n",
        "    \n",
        "    # Print the loss for the last 5 epochs\n",
        "    if epoch >= epochs - 5:\n",
        "        print(f\"Epoch {epoch + 1}/{    epochs}, Loss: {loss:.4f}\")"
      ],
      "metadata": {
        "id": "o5ek7t_SWive",
        "colab": {
          "base_uri": "https://localhost:8080/"
        },
        "outputId": "2fc21a6c-af19-4edf-edb1-60eb80836229"
      },
      "execution_count": 27,
      "outputs": [
        {
          "output_type": "stream",
          "name": "stdout",
          "text": [
            "Epoch 1996/2000, Loss: 0.6099\n",
            "Epoch 1997/2000, Loss: 0.6099\n",
            "Epoch 1998/2000, Loss: 0.6099\n",
            "Epoch 1999/2000, Loss: 0.6099\n",
            "Epoch 2000/2000, Loss: 0.6099\n"
          ]
        }
      ]
    },
    {
      "cell_type": "code",
      "source": [
        "# Testing the model\n",
        "Z1_test = np.dot(X_test, W1) + b1\n",
        "A1_test = relu(Z1_test)\n",
        "Z2_test = np.dot(A1_test, W2) + b2\n",
        "A2_test = sigmoid(Z2_test)"
      ],
      "metadata": {
        "id": "nRs3kSQDWmXb"
      },
      "execution_count": 28,
      "outputs": []
    },
    {
      "cell_type": "code",
      "source": [
        "# Threshold the output probabilities to create binary predictions\n",
        "y_pred = (A2_test > 0.5).astype(int).flatten()"
      ],
      "metadata": {
        "id": "kURtAzAwWoGs"
      },
      "execution_count": 29,
      "outputs": []
    },
    {
      "cell_type": "code",
      "source": [
        "# Calculate accuracy and confusion matrix\n",
        "accuracy = accuracy_score(y_test, y_pred)\n",
        "conf_matrix = confusion_matrix(y_test, y_pred)"
      ],
      "metadata": {
        "id": "IR8gsMoxWpim"
      },
      "execution_count": 30,
      "outputs": []
    },
    {
      "cell_type": "code",
      "source": [
        "print(f\"Test Accuracy: {accuracy:.4f}\")\n",
        "print(\"Confusion Matrix:\")\n",
        "print(conf_matrix)"
      ],
      "metadata": {
        "id": "pvdedgGgWq_X",
        "colab": {
          "base_uri": "https://localhost:8080/"
        },
        "outputId": "b6de1345-1bf8-487a-cb48-447968a918ab"
      },
      "execution_count": 31,
      "outputs": [
        {
          "output_type": "stream",
          "name": "stdout",
          "text": [
            "Test Accuracy: 0.7084\n",
            "Confusion Matrix:\n",
            "[[277   0]\n",
            " [114   0]]\n"
          ]
        }
      ]
    }
  ]
}